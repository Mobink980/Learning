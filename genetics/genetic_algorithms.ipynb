{
 "cells": [
  {
   "cell_type": "markdown",
   "metadata": {},
   "source": [
    "# Genetic Algorithms\n",
    "\n",
    "To dive into the world of genetic algorithms, we first need to understand evolutionary computation. Evolutionary computation is a branch of computer science that uses algorithms inspired by natural evolution to solve complex optimization problems. These algorithms mimic the biological processes of selection, mutation, and recombination to generate and improve a population of possible solutions. Evolutionary computation is a subfield of artificial intelligence and soft computing that studies these algorithms.\n",
    "\n",
    "Some examples of evolutionary computation methods are genetic algorithms, evolutionary strategies, particle swarm optimization, and differential evolution. These methods can be applied to various domains and problems, such as engineering design, machine learning, scheduling, image processing, and more. Evolutionary computation is one of the most popular and powerful metaheuristics in the field of optimization.\n",
    "\n",
    "Genetic algorithms are a kind of evolutionary computation method that simulates how nature selects and breeds the best individuals for a given environment. They use the principles of fitness, reproduction, and inheritance to generate and improve solutions for complex problems. They have many applications in various areas, such as artificial intelligence, optimization, engineering, and computer science. Genetic algorithms are among the most effective and widely used evolutionary techniques."
   ]
  },
  {
   "cell_type": "markdown",
   "metadata": {},
   "source": [
    "<figure>\n",
    "    <center> <img src=\"./pics/Representation/genetic_algorithm.jpg\"  alt='missing' width=\"400\"  ><center/>\n",
    "<figure/>"
   ]
  },
  {
   "cell_type": "markdown",
   "metadata": {},
   "source": [
    "\n",
    "## How it works?\n",
    "\n",
    "A genetic algorithm works by creating a population of possible solutions, each encoded as a chromosome (a string of bits, numbers, symbols, or other data structures). The quality of each solution is measured by a fitness function, which assigns a numerical score to each chromosome. The algorithm then applies genetic operators such as crossover (combining parts of two chromosomes) and mutation (randomly altering some parts of a chromosome) to create new chromosomes. These new chromosomes form the next generation of the population.\n",
    "\n",
    "A search space is the set of all possible solutions for a given problem. Each solution can be represented by a point in the search space, and each point has a value or a fitness score that indicates how good or bad the solution is for the problem. The goal of a genetic algorithm is to find the best solution, or the point with the highest (or lowest) fitness score, in the search space.\n",
    "\n",
    "A fitness score is a numerical measure of how well a solution satisfies the objective and constraints of the problem. A higher fitness score means a better solution, and a lower fitness score means a worse solution. The fitness score is calculated by a fitness function, which is a formula that takes a solution as input and outputs a fitness score. The fitness function depends on the problem and the criteria for evaluating the solutions.\n",
    "\n",
    "The algorithm repeats the process of selection, crossover, and mutation for a fixed number of iterations or until a satisfactory solution is found. The main advantages of genetic algorithms are that they can explore a large and diverse search space, they can handle noisy and nonlinear problems, and they can adapt to changing environments. The main challenges of genetic algorithms are choosing appropriate parameters, representations, and operators, and ensuring convergence and diversity.\n",
    "\n",
    "### Chromosome Representation\n",
    "We usually represent a chromosome in the genetic algorithms with the help of a list. Chromosome representation can vary, due to the problem. For instance, in the Bin Packing problem we use binary representation for the individuals; for optimizing a floating-point variable, we use floating-point representation; and for Traveling Salesman Problem (TSP) we use Integer representation without duplicate elements for the individuals, as the sequence matters and no element can be repeated. Here are some basic representations for individuals in the population.\n",
    "\n",
    "**Binary Representation:** \n",
    "In binary representation, each gene in the chromosome can be either 0 or 1."
   ]
  },
  {
   "cell_type": "markdown",
   "metadata": {},
   "source": [
    "<figure>\n",
    "    <center> <img src=\"./pics/Representation/binary.png\"  alt='missing' width=\"450\"  ><center/>\n",
    "<figure/>"
   ]
  },
  {
   "cell_type": "code",
   "execution_count": 1,
   "metadata": {},
   "outputs": [
    {
     "name": "stdout",
     "output_type": "stream",
     "text": [
      "[0, 1, 1, 0, 1, 0, 0, 0, 1, 1]\n"
     ]
    }
   ],
   "source": [
    "import numpy as np\n",
    "\n",
    "# a binary chromosome with the probability for 0 and 1\n",
    "def binary_chrom_generator(n, zero_prob, one_prob): \n",
    "    \"\"\"\n",
    "    Produces chromosomes with binary values for each gene. (binary alleles)\n",
    "    n: The length of the chromosome to be produced \n",
    "    zero_prob: The probability for the allele to be zero\n",
    "    one_prob: The probability for the allele to be one\n",
    "    \"\"\"   \n",
    "    return np.random.choice([0, 1], size=n, p=[zero_prob, one_prob]).tolist()\n",
    "\n",
    "print(binary_chrom_generator(10, 0.5, 0.5))"
   ]
  },
  {
   "cell_type": "markdown",
   "metadata": {},
   "source": [
    "**Integer Representation:**\n",
    "We have two types of integer representation: with or without duplicate values. In integer representation without duplicate values, each gene of the chromosome is an integer, but there are no duplicate elements. In other words, there are no two genes in a chromosome with the same value. This representation is also called string representation."
   ]
  },
  {
   "cell_type": "markdown",
   "metadata": {},
   "source": [
    "<figure>\n",
    "    <center> <img src=\"./pics/Representation/integer_representation_without_duplicate.png\"  alt='missing' width=\"450\"  ><center/>\n",
    "<figure/>"
   ]
  },
  {
   "cell_type": "code",
   "execution_count": 2,
   "metadata": {},
   "outputs": [
    {
     "name": "stdout",
     "output_type": "stream",
     "text": [
      "[3, 4, 9, 1, 5, 6, 2, 0, 8, 7]\n"
     ]
    }
   ],
   "source": [
    "import numpy as np\n",
    "\n",
    "# a chromosome with deferent values from 1 to n\n",
    "def integer_chrom_generator(n):\n",
    "    \"\"\"\n",
    "    Produces chromosomes with integer values for each gene. (integer alleles)\n",
    "    n: The length of the chromosome to be produced \n",
    "    \"\"\"  \n",
    "    a = []\n",
    "    for _ in range(n):\n",
    "        rand = np.random.randint(0, n)\n",
    "        while rand in a:\n",
    "            rand = np.random.randint(0, n)\n",
    "        else:\n",
    "            a.append(rand)\n",
    "    return a\n",
    "\n",
    "\n",
    "print(integer_chrom_generator(10))"
   ]
  },
  {
   "cell_type": "markdown",
   "metadata": {},
   "source": [
    "In integer representation with duplicate values each gene of the chromosome is an integer; but duplicate elements are allowed. This means that there could be more than one gene in the chromosome with the same value."
   ]
  },
  {
   "cell_type": "markdown",
   "metadata": {},
   "source": [
    "<figure>\n",
    "    <center> <img src=\"./pics/Representation/integer_representation_with_duplicate.png\"  alt='missing' width=\"450\"  ><center/>\n",
    "<figure/>"
   ]
  },
  {
   "cell_type": "code",
   "execution_count": 3,
   "metadata": {},
   "outputs": [
    {
     "name": "stdout",
     "output_type": "stream",
     "text": [
      "[3 3 9 7 3 8 5 1 6 8]\n"
     ]
    }
   ],
   "source": [
    "import numpy as np\n",
    "\n",
    "# a chromosome with deferent values from 1 to n\n",
    "def integer_chrom_generator(n):\n",
    "    \"\"\"\n",
    "    Produces chromosomes with integer values for each gene. (integer alleles)\n",
    "    n: The length of the chromosome to be produced \n",
    "    \"\"\"  \n",
    "    return np.random.randint(0, n, n)\n",
    "\n",
    "\n",
    "print(integer_chrom_generator(10))"
   ]
  },
  {
   "cell_type": "markdown",
   "metadata": {},
   "source": [
    "**Floating-point Representation:**\n",
    "In floating-point representation each gene of the chromosome is a floating-point number due to the properties of the problem."
   ]
  },
  {
   "cell_type": "markdown",
   "metadata": {},
   "source": [
    "<figure>\n",
    "    <center> <img src=\"./pics/Representation/floating_point_representation.png\"  alt='missing' width=\"450\"  ><center/>\n",
    "<figure/>"
   ]
  },
  {
   "cell_type": "code",
   "execution_count": 4,
   "metadata": {},
   "outputs": [
    {
     "name": "stdout",
     "output_type": "stream",
     "text": [
      "[0.19582855238997998, 0.5528625401677308, 0.4135211216093557, 0.13697459921931587, 0.8196384250173788, 0.17886565010693412, 0.640840740543504, 0.2562825506143419, 0.6825400951028368, 0.7560286267920658]\n"
     ]
    }
   ],
   "source": [
    "import numpy as np\n",
    "\n",
    "# a floating-point chromosome with genes between 0 and 1\n",
    "def floating_point_chrome_generator(n):\n",
    "    \"\"\"\n",
    "    Produces chromosomes with floating-point values for each gene. (floating-point alleles)\n",
    "    n: The length of the chromosome to be produced \n",
    "    \"\"\"  \n",
    "    return  np.random.uniform(low=0, high=1, size=n).tolist()\n",
    "\n",
    "\n",
    "print(floating_point_chrome_generator(10))"
   ]
  },
  {
   "cell_type": "markdown",
   "metadata": {},
   "source": [
    "**Two-dimensional Chromosomes:**\n",
    "In two-dimensional representation each chromosome is a two-dimensional list with numeric values. The size in each row could be the same or of different size according to the problem being solved."
   ]
  },
  {
   "cell_type": "markdown",
   "metadata": {},
   "source": [
    "<figure>\n",
    "    <center> <img src=\"./pics/Representation/two_dimensional_equalSize.png\"  alt='missing' width=\"450\"  ><center/>\n",
    "<figure/>"
   ]
  },
  {
   "cell_type": "code",
   "execution_count": 5,
   "metadata": {},
   "outputs": [
    {
     "name": "stdout",
     "output_type": "stream",
     "text": [
      "[[2, 3, 1, 4, 0], [0, 3, 1, 2, 4], [1, 0, 2, 4, 3], [1, 0, 3, 2, 4], [0, 4, 1, 3, 2], [1, 3, 2, 4, 0]]\n"
     ]
    }
   ],
   "source": [
    "import numpy as np\n",
    "\n",
    "# each element represents a vector of the batch of the genes with the same size\n",
    "def two_dim_chrom_generator(n, rows):\n",
    "    \"\"\"\n",
    "    Produces chromosomes with integer vector of vectors which each element represents \n",
    "    a vector of the batch. All the vectors have the same size. \n",
    "    n: Number of elements in each vector\n",
    "    rows: Number of vectors in each chromosome \n",
    "    \"\"\"  \n",
    "    a = []  \n",
    "    b = []\n",
    "    for _ in range(rows):\n",
    "        for _ in range(n):\n",
    "            rand = np.random.randint(0, n)\n",
    "            while rand in a:\n",
    "                rand = np.random.randint(0, n)\n",
    "            else:\n",
    "             a.append(rand)\n",
    "        b.append(a)\n",
    "        a=[]\n",
    "    return b\n",
    "\n",
    "\n",
    "print(two_dim_chrom_generator(5,6))"
   ]
  },
  {
   "cell_type": "markdown",
   "metadata": {},
   "source": [
    "<figure>\n",
    "    <center> <img src=\"./pics/Representation/two_dimensional_differentSize.png\"  alt='missing' width=\"450\"  ><center/>\n",
    "<figure/>"
   ]
  },
  {
   "cell_type": "code",
   "execution_count": 7,
   "metadata": {},
   "outputs": [
    {
     "name": "stdout",
     "output_type": "stream",
     "text": [
      "[[0, 3], [2, 5, 0], [5, 4, 1], [0, 3], [4], [4, 3, 5, 0], [3, 1, 2, 0, 4, 5]]\n"
     ]
    }
   ],
   "source": [
    "import numpy as np\n",
    "\n",
    "# each element represents a vector of the batch of the genes,\n",
    "# but each element has different size.\n",
    "def two_dim_chrom_generator_varsize(n, rows):\n",
    "    \"\"\"\n",
    "    Produces chromosomes with integer vector of vectors which each element represents \n",
    "    a vector of the batch. Each vector can have a different size.\n",
    "    n: Number of elements in each vector\n",
    "    rows: Number of vectors in each chromosome \n",
    "    \"\"\"  \n",
    "    a = []  \n",
    "    b = []\n",
    "    for _ in range(rows):\n",
    "        col = np.random.randint(1, n+1)\n",
    "        for _ in range(col):\n",
    "            rand = np.random.randint(0, n)\n",
    "            while rand in a:\n",
    "                rand = np.random.randint(0, n)\n",
    "            else:\n",
    "             a.append(rand)\n",
    "        b.append(a)\n",
    "        a=[]\n",
    "    return b\n",
    "\n",
    "\n",
    "print(two_dim_chrom_generator_varsize(6, 7))"
   ]
  },
  {
   "cell_type": "markdown",
   "metadata": {},
   "source": [
    "As you can see, there are lots of different chromosome representations that were developed for solving various problems. You may need to come up with a unique chromosome representation for your problem. But in here, we tried to cover the most used representations.\n",
    "\n",
    "\n",
    "### Operators of Genetic Algorithms\n",
    "\n",
    "Genetic algorithms use three main operators to evolve the population: selection, crossover, and mutation.\n",
    "- **Selection** is the process of choosing the most fit individuals from the population to produce offspring. There are different methods of selection, such as roulette wheel, tournament, rank-based, etc. The idea is to give more chances to the individuals with higher fitness scores to pass their genes to the next generation. Selection process can be described by two steps: (1) parents selection and (2) a replacement strategy that decides if offspring will replace parents, and which parent to replace.\n",
    "\n",
    "- **Crossover** is the process of combining two parent solutions to create a new child solution. Crossover can be performed in different ways, such as one-point, two-point, uniform, etc. The idea is to exchange some parts of the parents' strings to create a new string that may inherit some good traits from both parents. Note that the same individual may be selected as both parents, and one individual may take part in producing more than one offspring. Main categories of crossover operators are: (1) Asexual: an offspring is generated from one parent, (2) Sexual: two parents produce one or more offspring, and (3) Multi-recombination: more than two parents are used to produce one or more offspring.\n",
    "\n",
    "- **Mutation** is the process of randomly altering some symbols in a solution's string. Mutation can be performed with different probabilities, such as fixed, adaptive, etc. The idea is to introduce some diversity and variation in the population, which may help to escape from local optima and explore new regions of the search space. Large initial mutation rate (probability that mutation occur in an individual) favors exploration due to causing large jumps in search space. As mutation rate decreases, exploitation is favored. The probability of mutation could be proportional to the fitness of the individual, or we can simply decrease the mutation probability over time.\n",
    "\n",
    "These operators are applied iteratively until a termination criterion is met, such as reaching a maximum number of generations, finding an optimal solution, or reaching a time limit. The final result is the best solution found so far by the genetic algorithm.\n",
    " \n",
    "\n",
    "### When to stop our algorithm?\n",
    "- When the number of generation, or fitness evaluations has reached to a specific number (for example: n <= 1000)\n",
    "- When population has converged: (1) when no improvement is observed over a number of consecutive generations; (2) when there is no change in the population; (3) when an acceptable solution has been found; or (4) when objective function slope is approximately zero.\n",
    "\n",
    "### Generation Gap\n",
    "The amount of overlap between the current and new population."
   ]
  },
  {
   "cell_type": "markdown",
   "metadata": {},
   "source": [
    "### Example \n",
    "Here is a simple example of how to initialize a population in Python. We will see a full genetic algorithm example after we cover genetic algorithm operators in detail."
   ]
  },
  {
   "cell_type": "code",
   "execution_count": 14,
   "metadata": {},
   "outputs": [
    {
     "name": "stdout",
     "output_type": "stream",
     "text": [
      "\n",
      " Creating 2 Chromosomes From Each Type:\n",
      "========================================================================================\n",
      "\n",
      "Type: binary\n",
      "******************************************\n",
      "ID=#0, Fitness=6, \n",
      "Genes=\n",
      "[0 1 0 1 1 0 1 1 1 0]\n",
      "ID=#1, Fitness=7, \n",
      "Genes=\n",
      "[1 0 0 1 0 1 1 1 1 1]\n",
      "\n",
      "Type: integer\n",
      "******************************************\n",
      "ID=#0, Fitness=5, \n",
      "Genes=\n",
      "[3 6 4 0 2 9 8 1 5 7]\n",
      "ID=#1, Fitness=5, \n",
      "Genes=\n",
      "[5 0 4 3 6 2 8 1 9 7]\n",
      "\n",
      "Type: float\n",
      "******************************************\n",
      "ID=#0, Fitness=7, \n",
      "Genes=\n",
      "[0.63696755 0.32990196 0.81671114 0.19976552 0.08581943 0.30930915\n",
      " 0.71192284 0.32371686 0.29610678 0.23837108]\n",
      "ID=#1, Fitness=6, \n",
      "Genes=\n",
      "[0.24470819 0.21891633 0.04777742 0.39038241 0.53697148 0.19970273\n",
      " 0.50364651 0.61933905 0.11498672 0.72706682]\n"
     ]
    }
   ],
   "source": [
    "import numpy as np\n",
    "\n",
    "class Chromosome():\n",
    "    \"\"\"\n",
    "    Description of class `Chromosome`:\n",
    "    This class represents a simple chromosome. In the method describe, a simple description\n",
    "    of the chromosome is provided, when it is called. \n",
    "    \"\"\"\n",
    "    def __init__(self, genes, id_=None, fitness=-1):\n",
    "        self.id_ = id_\n",
    "        self.genes = genes\n",
    "        self.fitness = fitness       \n",
    "       \n",
    "    def describe(self): \n",
    "        \"\"\"\n",
    "        Prints the ID, fitness, and genes\n",
    "        \"\"\"\n",
    "        print(f\"ID=#{self.id_}, Fitness={self.fitness}, \\nGenes=\\n{self.genes}\")\n",
    " \n",
    "    def get_chrom_length(self): \n",
    "        \"\"\"\n",
    "        Returns the length of `self.genes`\n",
    "        \"\"\"\n",
    "        return len(self.genes)\n",
    "\n",
    "\n",
    "# a chromosome with deferent values from 1 to n\n",
    "def integer_chrom_generator(n):\n",
    "    \"\"\"\n",
    "    Produces chromosomes with integer values for each gene. (integer alleles)\n",
    "    n: The length of the chromosome to be produced \n",
    "    \"\"\"  \n",
    "    a = []\n",
    "    for _ in range(n):\n",
    "        rand = np.random.randint(0, n)\n",
    "        while rand in a:\n",
    "            rand = np.random.randint(0, n)\n",
    "        else:\n",
    "            a.append(rand)\n",
    "    return a\n",
    "\n",
    "# a floating-point chromosome with genes between 0 and 1\n",
    "def floating_point_chrome_generator(n):\n",
    "    \"\"\"\n",
    "    Produces chromosomes with floating-point values for each gene. (floating-point alleles)\n",
    "    n: The length of the chromosome to be produced \n",
    "    \"\"\"  \n",
    "    return  np.random.uniform(low=0, high=1, size=n).tolist()\n",
    "\n",
    "\n",
    "# a binary chromosome with the probability for 0 and 1\n",
    "def binary_chrom_generator(n, zero_prob, one_prob): \n",
    "    \"\"\"\n",
    "    Produces chromosomes with binary values for each gene. (binary alleles)\n",
    "    n: The length of the chromosome to be produced \n",
    "    zero_prob: The probability for the allele to be zero\n",
    "    one_prob: The probability for the allele to be one\n",
    "    \"\"\"   \n",
    "    return np.random.choice([0, 1], size=n, p=[zero_prob, one_prob]).tolist()\n",
    "\n",
    "\n",
    "def find_chrom_type(chrom):\n",
    "    \"\"\"\n",
    "    This function, takes a chromosome and returns its type (binary, integer, \n",
    "    or a floating-point chromosome).\n",
    "    chrom: The chromoseme which its type is calculated and returned.\n",
    "    \"\"\" \n",
    "    # if a floating-point individual\n",
    "    if np.issubdtype(chrom.dtype, np.floating):\n",
    "        return \"float\"\n",
    "    # if a binary individual\n",
    "    elif np.array_equal(chrom, chrom.astype(bool)):\n",
    "        return \"binary\"\n",
    "    # if an integer individual\n",
    "    elif np.issubdtype(chrom.dtype, np.integer):\n",
    "        return \"integer\"\n",
    "    \n",
    "    return \"binary\"\n",
    "\n",
    "\n",
    "# Note that calculating the fitness of a chromosome depends on the problem at hand,\n",
    "# and what you see in this function is just for understanding the concept.\n",
    "def fitness_function(chrom): \n",
    "    \"\"\"\n",
    "    This function, takes a chromosome and returns a value as its fitness.\n",
    "    chrom: The chromoseme which its fitness is calculated and returned.\n",
    "    \"\"\"  \n",
    "    fitness = 0\n",
    "    chrom_type = find_chrom_type(chrom)\n",
    "    # if we have a binary chromosome (count the number of 1s)\n",
    "    if chrom_type == \"binary\":\n",
    "        return np.count_nonzero(chrom == 1)\n",
    "    # if we have an integer chromosome (count values between 0 and 4)\n",
    "    elif chrom_type == \"integer\":\n",
    "        return np.count_nonzero((chrom >= 0) & (chrom <= 4))\n",
    "    # if we have a floating-point chromosome (count values between 0 and 0.5) \n",
    "    elif chrom_type == \"float\":\n",
    "        return np.count_nonzero((chrom >= 0) & (chrom <= 0.5))\n",
    "    \n",
    "    return -1\n",
    "\n",
    "\n",
    "def pop_initialization(pop_size, chrom_size, chrom_generator): \n",
    "    \"\"\"\n",
    "    This function creates a population with the size pop_size, with chrom_size for the size of the chromosomes.\n",
    "    The type of the chromosomes needed for specific problems will be passed as the third argument.\n",
    "    pop_size: Size of the population\n",
    "    chrom_size: Size of each chromosome in the population\n",
    "    chrom_generator: The type of the chromosomes to be produced; such as integer, binary, etc.\n",
    "    \"\"\"  \n",
    "    pop = []\n",
    "    if(chrom_generator==\"integer\"):\n",
    "        for i in range(pop_size):\n",
    "            chrom = np.array(integer_chrom_generator(chrom_size))\n",
    "            pop.append(Chromosome(genes= chrom, id_=i, fitness = fitness_function(chrom)))\n",
    "\n",
    "    if(chrom_generator==\"float\"):\n",
    "        for i in range(pop_size):\n",
    "            chrom = np.array(floating_point_chrome_generator(chrom_size))\n",
    "            pop.append(Chromosome(genes= chrom, id_=i, fitness = fitness_function(chrom)))\n",
    "            \n",
    "    if(chrom_generator==\"binary\"):\n",
    "        for i in range(pop_size):\n",
    "            chrom = np.array(binary_chrom_generator(chrom_size, 0.5, 0.5))\n",
    "            pop.append(Chromosome(genes= chrom, id_=i, fitness = fitness_function(chrom)))\n",
    "            \n",
    "    return pop\n",
    "\n",
    "print(\"\\n Creating 2 Chromosomes From Each Type:\")\n",
    "print(\"========================================================================================\")\n",
    "\n",
    "print(\"\\nType: binary\")\n",
    "print(\"******************************************\")\n",
    "POP = pop_initialization(2, 10, \"binary\")\n",
    "for i in range(len(POP)): #printing the population\n",
    "    Chromosome.describe(POP[i])\n",
    "\n",
    "print(\"\\nType: integer\")\n",
    "print(\"******************************************\")\n",
    "POP = pop_initialization(2, 10, \"integer\")\n",
    "for i in range(len(POP)): #printing the population\n",
    "    Chromosome.describe(POP[i])\n",
    "\n",
    "print(\"\\nType: float\")\n",
    "print(\"******************************************\")\n",
    "POP = pop_initialization(2, 10, \"float\")\n",
    "for i in range(len(POP)): #printing the population\n",
    "    Chromosome.describe(POP[i])\n",
    "\n",
    "\n",
    "\n",
    "\n",
    "\n"
   ]
  },
  {
   "cell_type": "markdown",
   "metadata": {},
   "source": [
    "\n",
    "\n",
    "## Genetic algorithm strengths\n",
    "Some of the strengths of genetic algorithms are:\n",
    "\n",
    "- They can explore a wide range of potential solutions to a problem, even if the problem is not well-defined or has multiple objectives.\n",
    "- They can use payoff (objective function) information, not derivatives, which makes them suitable for problems that are nonlinear, noisy, or discontinuous.\n",
    "- They can use probabilistic transition rules, not deterministic rules, which makes them robust to local optima and premature convergence.\n",
    "- They can adapt to changing environments and learn from previous experiences.\n",
    "\n",
    "## Genetic algorithm shortcomings\n",
    "Some of the weaknesses of genetic algorithms are:\n",
    "\n",
    "- They can be computationally expensive and require a lot of memory and processing power, especially for large and complex problems.\n",
    "- They can be sensitive to the choice of parameters, such as population size, crossover rate, mutation rate, and selection method, which can affect the performance and convergence of the algorithm.\n",
    "- They can suffer from the loss of diversity and stagnation, which can lead to poor exploration and exploitation of the search space.\n",
    "- They can have difficulty in handling constraints and discrete variables, which can limit their applicability to some problems.\n",
    "\n",
    "## The future of genetic algorithms\n",
    "The future of genetic algorithms is promising, as they have many potential applications and directions for improvement. Some of the future trends and challenges of genetic algorithms are:\n",
    "\n",
    "- Developing new and improved operators, such as crossover, mutation, and selection, that can enhance the diversity, efficiency, and quality of the solutions.\n",
    "- Integrating genetic algorithms with other methods, such as machine learning, neural networks, fuzzy logic, and swarm intelligence, that can complement their strengths and overcome their limitations.\n",
    "- Applying genetic algorithms to new and emerging domains, such as quantum computing, big data, cloud computing, and social networks, that can pose new and interesting problems and opportunities.\n",
    "- Analyzing and understanding the theoretical and empirical aspects of genetic algorithms, such as convergence, complexity, scalability, and performance, that can provide insights and guidance for their design and implementation.\n",
    "\n",
    "\n",
    "## Genetic Algorithms and Machine Learning\n",
    "Genetic algorithms can be combined with machine learning in various ways, such as:\n",
    "\n",
    "- Using genetic algorithms to optimize the parameters, structure, or features of machine learning models, such as neural networks, decision trees, or support vector machines, that can improve their accuracy and generalization.\n",
    "- Using genetic algorithms to generate or evolve machine learning models, such as genetic programming, that can discover novel and interpretable solutions to complex problems.\n",
    "- Using genetic algorithms to learn or adapt the rules, strategies, or behaviors of machine learning agents, such as reinforcement learning, that can enable them to interact with and learn from their environment."
   ]
  },
  {
   "cell_type": "markdown",
   "metadata": {},
   "source": [
    "<figure>\n",
    "    <center> <img src=\"./pics/Representation/ml_ga.jpg\"  alt='missing' width=\"350\"  ><center/>\n",
    "<figure/>"
   ]
  },
  {
   "cell_type": "markdown",
   "metadata": {},
   "source": [
    "\n",
    "In the next article, we talk about selection operators. Thank you for reading. 😃🧡💛💚💙❤️💜\n",
    "\n",
    "Partial credits to Nikan Doosti: https://www.linkedin.com/in/nikronic/\n",
    "\n",
    "## References \n",
    "(1) Wikipedia contributors. 2023. Evolutionary computation. In Wikipedia, The Free Encyclopedia. Retrieved November 9, 2023 from https://en.wikipedia.org/wiki/Evolutionary_computation.\n",
    "\n",
    "(2) Wikipedia contributors. 2023. Evolutionary algorithm. In Wikipedia, The Free Encyclopedia. Retrieved November 9, 2023 from https://en.wikipedia.org/wiki/Evolutionary_algorithm.\n",
    "\n",
    "(3) Wikipedia. 2023. Genetic algorithm. Retrieved November 9, 2023 from https://en.wikipedia.org/wiki/Genetic_algorithm.\n",
    "\n",
    "(4) Andries P. Engelbrecht. 2007. Computational Intelligence: An Introduction (2nd ed.). John Wiley & Sons.\n",
    "\n",
    "(5) S. K. Pal, S. Das, and S. Bandyopadhyay. 2020. A review on genetic algorithm: past, present, and future. Multimedia Tools and Applications 79, 47 (2020), 35001–35042. DOI:https://doi.org/10.1007/s11042-020-10139-6\n",
    "\n",
    "(6) Marek Obitko. 2023. Search Space - Introduction to Genetic Algorithms - Tutorial with Interactive Program. Retrieved November 9, 2023 from https://www.obitko.com/tutorials/genetic-algorithms/search-space.php.\n",
    "\n",
    "(7) Saturn Cloud. 2023. Genetic Algorithm Fitness Score Issue: A Comprehensive Guide. Retrieved November 9, 2023 from https://saturncloud.io/blog/genetic-algorithm-fitness-score-issue-a-comprehensive-guide/.\n",
    "\n",
    "(8) Stack Exchange. 2023. How to create a good fitness function. Retrieved November 9, 2023 from https://ai.stackexchange.com/questions/9105/how-to-create-a-good-fitness-function.\n",
    "\n",
    "(9) GeeksforGeeks. 2023. Genetic Algorithms. Retrieved November 9, 2023 from https://www.geeksforgeeks.org/genetic-algorithms/.\n",
    "\n",
    "(10) Baeldung. 2023. Real-World Uses for Genetic Algorithms. Retrieved November 9, 2023 from https://www.baeldung.com/cs/genetic-algorithms-applications.\n",
    "\n",
    "(11) Electricalvoice. 2023. Genetic Algorithm - Advantages & Disadvantages. Retrieved November 9, 2023 from https://bing.com/search?q=strength+and+weakness+of+genetic+algorithm.\n",
    "\n",
    "(12) AspiringYouths. 2023. Advantages and Disadvantages of Genetic Algorithm. Retrieved November 9, 2023 from https://aspiringyouths.com/advantages-disadvantages/genetic-algorithm/.\n",
    "\n",
    "(13) SSRN. 2020. Qualities, Challenges and Future of Genetic Algorithms. Retrieved November 9, 2023 from https://papers.ssrn.com/sol3/papers.cfm?abstract_id=3726035.\n",
    "\n",
    "(14) arXiv. 2020. Qualities, challenges and future of genetic algorithms: a literature survey. Retrieved November 9, 2023 from https://arxiv.org/abs/2011.05277.\n",
    "\n",
    "(15) Papers with Code. 2020. Qualities, challenges and future of genetic algorithms: a literature survey. Retrieved November 9, 2023 from https://paperswithcode.com/paper/qualities-challenges-and-future-of-genetic.\n",
    "\n",
    "(16) A. K. Jain and S. K. Pal. 2016. Understanding genetic algorithms. Data Science Stack Exchange. Retrieved July 31, 2023.\n",
    "\n",
    "(17) J. M. Mwangi. 2020. The Basics of Genetic Algorithms in Machine Learning. Section. Retrieved July 31, 2023.\n",
    "\n",
    "(18) D. E. Goldberg. 1994. Genetic Algorithms and Machine Learning. Machine Learning 12, 3 (1994), 287-307. DOI:https://doi.org/10.1023/A:1022602019183.\n",
    "\n",
    "(19) A. Kumar. 2019. Genetic Algorithm - Advantages & Disadvantages. Electricalvoice. Retrieved July 31, 2023.\n",
    "\n",
    "(20) S. K. Pal and A. K. Jain. 2020. Genetic Algorithm Applications and Limitations. Control. Retrieved July 31, 2023.\n",
    "\n",
    "(21) S. Das and D. E. Goldberg. 2019. Genetic Algorithms in Machine Learning: An Introduction. KnowledgeHut. Retrieved July 31, 2023.\n",
    "\n",
    "(22) Bing, 2023. A graphical artwork of a dragon."
   ]
  }
 ],
 "metadata": {
  "kernelspec": {
   "display_name": "Python 3",
   "language": "python",
   "name": "python3"
  },
  "language_info": {
   "codemirror_mode": {
    "name": "ipython",
    "version": 3
   },
   "file_extension": ".py",
   "mimetype": "text/x-python",
   "name": "python",
   "nbconvert_exporter": "python",
   "pygments_lexer": "ipython3",
   "version": "3.10.0"
  }
 },
 "nbformat": 4,
 "nbformat_minor": 2
}
