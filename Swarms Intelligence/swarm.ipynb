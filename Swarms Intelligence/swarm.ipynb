{
 "cells": [
  {
   "cell_type": "markdown",
   "id": "eb6d4807-ac6d-4575-ad33-8609b773f40d",
   "metadata": {},
   "source": [
    "# Computational Swarm Intelligence"
   ]
  },
  {
   "cell_type": "markdown",
   "id": "3cadaf79-3adf-4cd4-a83c-44f4671266f1",
   "metadata": {},
   "source": [
    "**Swarm Intelligence (SI)** encapsulates the mesmerizing phenomenon of collective behavior exhibited by groups of individuals. This fascinating natural occurrence is vividly observed in the orchestrated movements of insect swarms, bird flocks, and schools of fish.\n",
    "\n",
    "At its core, a group may be termed a swarm. Formally, a swarm comprises mobile agents that communicate—either directly or indirectly—through their interactions with the local environment. This marvel is often referred to as **collective intelligence**.\n",
    "\n",
    "Intriguingly, heterogeneous swarms also exist, composed of individuals with diverse abilities, such as worker ants and queens. Yet, a defining characteristic of swarm intelligence is that the emergent collective behavior cannot be discerned from the actions of individual members, a phenomenon known as **emergence**.\n"
   ]
  },
  {
   "cell_type": "markdown",
   "id": "fb47ca64-4005-43c6-b15b-474ed2516d90",
   "metadata": {},
   "source": [
    "<figure><center>\n",
    "    <img src=\"pics/si_intro/csi.png\" alt=\"missing\">\n",
    "</center></figure>"
   ]
  },
  {
   "cell_type": "markdown",
   "id": "698420b1-0c52-439b-8e48-4257efcfd23e",
   "metadata": {},
   "source": [
    "## **Contents**\n",
    "\n",
    "<a href='#know-how'>01. How it works?</a>\n",
    "\n",
    "<a href='#si-paradigm'>02. Swarm Intelligence Paradigms</a>\n",
    "\n",
    "<a href='#simple-dem'>03. A Simple Demonstration</a>\n",
    "\n",
    "<a href='#si-strong'>04. Swarm Intelligence Strengths</a>\n",
    "\n",
    "<a href='#si-weak'>05. Swarm Intelligence Shortcomings</a>\n",
    "\n",
    "<a href='#dy-var'>06. Dynamic Environment Vs Variable Environment</a>\n",
    "\n",
    "<a href='#si-app'>07. Swarm Intelligence Applications</a>\n",
    "\n",
    "<a href='#si-future'>08. The Future of Swarm Intelligence</a>\n",
    "\n",
    "<a href='#si-ref'>09. References</a>\n"
   ]
  },
  {
   "cell_type": "markdown",
   "id": "36b7923e-2745-4faf-8054-1f4c4e0a8368",
   "metadata": {},
   "source": [
    "## <a id='know-how'>How it works?</a>\n",
    "\n",
    "Imagine a group of enthusiastic gardeners who have come together for a community gardening project. Their goal is to find the best spot in their neighborhood to plant a new vegetable garden. They know that the ideal location will have plenty of sunlight, good soil, and easy access to water, but they aren't sure exactly where it is."
   ]
  },
  {
   "cell_type": "markdown",
   "id": "a61acaf1-000f-4af1-8309-1efa49c6e1d9",
   "metadata": {},
   "source": [
    "<figure><center>\n",
    "    <img src=\"pics/si_intro/garden.jpg\" alt=\"missing\">\n",
    "</center></figure>"
   ]
  },
  {
   "cell_type": "markdown",
   "id": "05c9e2aa-cd81-43d6-8e82-a16d6b400e86",
   "metadata": {},
   "source": [
    "Each gardener has a small device that measures sunlight, soil quality, and moisture levels. They can share this information with each other in real-time as they explore different areas of the neighborhood. The gardeners agree on a plan: whoever finds the perfect spot will lead the project and receive a larger share of the harvest. The others will be rewarded based on how close they were to the chosen location.\n",
    "\n",
    "### The Two Approaches\n",
    "\n",
    "As they set out, each gardener faces two choices:\n",
    "\n",
    "1. **Go Solo**: One gardener decides to ignore the others and search independently. She wanders through the neighborhood, relying solely on her own measurements. If she finds the ideal spot first, she gets to lead the project and enjoy most of the harvest. However, if someone else discovers it before her, she risks missing out entirely.\n",
    "\n",
    "2. **Team Up**: Another gardener chooses to collaborate with his neighbors. He checks his device and sees that a nearby gardener has detected excellent sunlight and soil conditions. He moves in that direction, sharing his findings along the way. By pooling their knowledge and working together, they increase their chances of finding the best garden spot.\n",
    "\n",
    "### The Discovery\n",
    "\n",
    "As they explore, the gardeners communicate their findings, adjusting their paths based on real-time data from their devices. Eventually, one gardener discovers an area with optimal conditions for planting. Thanks to their collaborative efforts, everyone was able to contribute valuable insights that led to this successful discovery.\n",
    "\n",
    "### The Harvest\n",
    "\n",
    "In the end, not only do they find the perfect location for their garden, but they also strengthen their community bonds. The gardener who found the spot leads the project, while others receive rewards based on how close their contributions were to the final decision.\n",
    "\n",
    "This story demonstrates the power of swarm intelligence, showcasing how collaboration and shared information can enhance decision-making and outcomes when global knowledge of an environment is lacking. By leveraging collective insights, individuals can navigate challenges more effectively, benefiting everyone involved.\n",
    "\n"
   ]
  },
  {
   "cell_type": "markdown",
   "id": "cfec55fd-6ead-4dd5-937b-03771c187de3",
   "metadata": {},
   "source": [
    "## <a id='si-paradigm'>Swarm Intelligence Paradigms</a>\n",
    "\n",
    "Computational Swarm Intelligence (CSI) involves various optimization strategies inspired by natural phenomena, focusing on local interactions through direct and indirect communication. Particle Swarm Optimization (PSO), introduced by Kennedy and Eberhart in 1995, represents direct communication methods, inspired by the behavior of flocks and schools. PSO is celebrated for its straightforward implementation, minimal parameters, and rapid convergence, though modifications have been proposed to address local optima stagnation. Indirect communication or stigmergy, a term referring to indirect interactions among individuals, is used in Ant Systems. Developed by Dorigo and Stützle in 2004, this model mimics ant and termite colonies, where individuals communicate via environmental cues.\n"
   ]
  },
  {
   "cell_type": "markdown",
   "id": "f172f8d6-1e18-4e33-bbc2-52676d7dc956",
   "metadata": {},
   "source": [
    "<figure><center>\n",
    "    <img src=\"pics/si_intro/aco_pso.png\" alt=\"missing\">\n",
    "</center></figure>"
   ]
  },
  {
   "cell_type": "markdown",
   "id": "60c2d63c-7c8c-47f6-ad15-78ea362ba989",
   "metadata": {},
   "source": [
    "The goal of computational swarm intelligence (CSI) models is to simulate simple individual behaviors and local interactions with the environment and neighboring agents to generate complex behaviors that tackle intricate problems, primarily optimization challenges. For example, **Particle Swarm Optimization (PSO)** encapsulates two fundamental behaviors: each individual (1) moves toward its nearest best neighbor and (2) returns to its previously optimal state. This leads to a collective behavior where all individuals converge on the optimal environmental state.\n",
    "\n",
    "On the other hand, **Ant Colony Optimization** mimics the basic pheromone-following behavior of ants, where each ant detects pheromone concentrations nearby and probabilistically chooses the direction with the highest concentration. This results in emergent behaviors that identify the best alternatives, such as the shortest path among options. "
   ]
  },
  {
   "cell_type": "markdown",
   "id": "253056a6-33a2-4a91-8842-adb11201e299",
   "metadata": {},
   "source": [
    "## <a id='simple-dem'>A Simple Demonstration</a>"
   ]
  },
  {
   "cell_type": "markdown",
   "id": "18411805-da9b-4417-8dbb-bc79b57bc448",
   "metadata": {},
   "source": [
    "For an elegant illustration of swarm intelligence, consider the Rosenbrock function. Introduced by Howard H. Rosenbrock in 1960, this non-convex mathematical function serves as a quintessential benchmark for optimization algorithms. Often dubbed \"Rosenbrock's valley\" or the \"banana function\" owing to its distinctive topography, it remains a pivotal reference point in the field.\n",
    "\n",
    "The function is expressed as:\n",
    "\n",
    "$$\n",
    "f(x, y) = (a - x)^2 + b(y - x^2)^2\n",
    "$$\n",
    "\n",
    "It features a global minimum at the coordinates $(x, y) = (a, a^2)$, where the function value $f(x, y)$ equals zero. Commonly, the parameters are set to $a = 1$ and $b = 100$. Notably, the function exhibits symmetry solely when $a = 0$, resulting in the minimum at the origin.\n"
   ]
  },
  {
   "cell_type": "markdown",
   "id": "fc7b72bb",
   "metadata": {},
   "source": [
    "<figure>\n",
    "    <center>\n",
    "        <img src=\"pics/si_intro/Rosenbrock.png\" alt=\"missing\">\n",
    "        <figcaption><b>Figure 1.</b> Rosenbrock Function Contour Plot. <br>Image source: Wikipedia. (n.d.). Rosenbrock-contour [SVG file]. Retrieved from https://en.wikipedia.org/wiki/File:Rosenbrock-contour.svg</figcaption>\n",
    "    </center>\n",
    "</figure>\n"
   ]
  },
  {
   "cell_type": "markdown",
   "id": "692bb609-5002-4af4-b803-6dae1dda7f19",
   "metadata": {},
   "source": [
    "To optimize this function using the collective behavior of swarm intelligence, a group of particles is employed to explore the search space for the minimum value. The fundamental steps include initializing particles, updating their velocities and positions based on their own best-known positions and the swarm's best-known position, and iterating until convergence.\n",
    "\n",
    "For this implementation of Particle Swarm Optimization (PSO), we will use the pyswarms library to minimize the Rosenbrock function. Results will be visualized using the matplotlib library in Python."
   ]
  },
  {
   "cell_type": "markdown",
   "id": "7eeb7ba7",
   "metadata": {},
   "source": [
    "\n",
    "Use the following command in your terminal to install the required libraries."
   ]
  },
  {
   "cell_type": "code",
   "execution_count": null,
   "id": "d9c2b7bb",
   "metadata": {},
   "outputs": [],
   "source": [
    "# Installing needed libraries\n",
    "%pip install pyswarms matplotlib numpy"
   ]
  },
  {
   "cell_type": "markdown",
   "id": "95cb9c38",
   "metadata": {},
   "source": [
    "**%pip install** is a Jupyter magic command specifically designed to handle package installations within the notebook environment. It ensures that the installation is done in the correct environment that the notebook is using. This can help avoid issues related to environment mismatches or path problems."
   ]
  },
  {
   "cell_type": "code",
   "execution_count": 11,
   "id": "d308e3ba-d9c0-49e7-bbba-f1a84cc3f94f",
   "metadata": {},
   "outputs": [
    {
     "name": "stderr",
     "output_type": "stream",
     "text": [
      "2024-10-12 19:11:04,564 - pyswarms.single.global_best - INFO - Optimize for 100 iters with {'c1': 1.5, 'c2': 1.5, 'w': 0.5}\n",
      "pyswarms.single.global_best: 100%|██████████|100/100, best_cost=1.03e-12\n",
      "2024-10-12 19:11:04,748 - pyswarms.single.global_best - INFO - Optimization finished | best cost: 1.025877166092841e-12, best pos: [1.00000096 1.00000189]\n"
     ]
    },
    {
     "name": "stdout",
     "output_type": "stream",
     "text": [
      "=========================================\n",
      "Best Position: [1.00000096 1.00000189]\n",
      "Best Cost: 1.025877166092841e-12\n",
      "=========================================\n"
     ]
    },
    {
     "data": {
      "image/png": "[encoded data removed]",
      "text/plain": [
       "<Figure size 1000x600 with 2 Axes>"
      ]
     },
     "metadata": {},
     "output_type": "display_data"
    }
   ],
   "source": [
    "import numpy as np\n",
    "import matplotlib.pyplot as plt\n",
    "import pyswarms as pso\n",
    "\n",
    "# Define the Rosenbrock function (for a=1 & b=100)\n",
    "def rosenbrock(x):\n",
    "    return np.sum(100.0 * (x[:, 1:] - x[:, :-1]**2.0)**2.0 + (1 - x[:, :-1])**2.0, axis=1)\n",
    "\n",
    "# Set up the bounds for the optimization problem\n",
    "bounds = (np.array([-5, -5]), np.array([5, 5]))\n",
    "\n",
    "# Create a PSO optimizer instance\n",
    "optimizer = pso.single.GlobalBestPSO(n_particles=50, dimensions=2, options={'c1': 1.5, 'c2': 1.5, 'w': 0.5}, bounds=bounds)\n",
    "\n",
    "# Perform optimization\n",
    "best_cost, best_pos = optimizer.optimize(rosenbrock, iters=100)\n",
    "\n",
    "# Print results\n",
    "print(\"=========================================\")\n",
    "print(f\"Best Position: {best_pos}\")\n",
    "print(f\"Best Cost: {best_cost}\")\n",
    "print(\"=========================================\")\n",
    "# Generate data for visualization\n",
    "x = np.linspace(-3, 3, 400)\n",
    "y = np.linspace(-1, 3, 400)\n",
    "X, Y = np.meshgrid(x, y)\n",
    "Z = rosenbrock(np.array([X.ravel(), Y.ravel()]).T).reshape(X.shape)\n",
    "\n",
    "# Plotting the Rosenbrock function and the best position found by PSO\n",
    "plt.figure(figsize=(10, 6))\n",
    "plt.contourf(X, Y, Z, levels=50, cmap='viridis')\n",
    "plt.colorbar(label='Function Value')\n",
    "plt.scatter(best_pos[0], best_pos[1], color='red', marker='X', s=200, label='Best Position Found')\n",
    "plt.title('Rosenbrock Function Optimization using PSO')\n",
    "plt.xlabel('X-axis')\n",
    "plt.ylabel('Y-axis')\n",
    "plt.legend()\n",
    "plt.show()\n"
   ]
  },
  {
   "cell_type": "markdown",
   "id": "f8b4f44b-8555-4b3b-804f-9d0023fd99a2",
   "metadata": {},
   "source": [
    "The optimizer operates for a predetermined number of iterations—specifically, 100 in this instance—to identify the optimal position and associated cost. The Rosenbrock function is visualized through contour lines, with the optimal position determined by Particle Swarm Optimization (PSO) indicated by a red \"X.\" When executing this code multiple times, PSO consistently yields a distinct optimal position and corresponding cost with each iteration."
   ]
  },
  {
   "cell_type": "markdown",
   "id": "8f7a6b2d-ad38-44a8-96db-3c6fcf8a8a7d",
   "metadata": {},
   "source": [
    "## <a id='si-strong'>Swarm Intelligence Strengths</a>"
   ]
  },
  {
   "cell_type": "markdown",
   "id": "e585d217-e608-4873-aacb-4709aafee9be",
   "metadata": {},
   "source": [
    "Swarm intelligence, particularly as manifested through <span style=\"color:#006699\">**Particle Swarm Optimization (PSO)**</span>, offers several advantages over genetic algorithms (GAs):\n",
    "\n",
    "1. **Simplicity:** PSO is characterized by its lower computational overhead and fewer parameters, simplifying its implementation compared to GAs, which require intricate operations such as crossover and mutation.\n",
    "\n",
    "2. **Global and Local Search:** PSO effectively navigates both global and local search spaces, enhancing its capability to efficiently identify optimal solutions, whereas GAs tend to concentrate primarily on global search.\n",
    "\n",
    "3. **Adaptability to Dynamic Environments:** PSO demonstrates a strong ability to adapt to dynamic optimization problems. It maintains stability without the need for drastic measures such as population destruction, which GAs may employ to enhance accuracy when faced with changing conditions.\n",
    "\n",
    "4. **Rapid Convergence:** In many continuous optimization scenarios, PSO often achieves faster convergence than GAs. This is attributed to its collaborative approach, where particles share information about their positions and velocities, enabling quicker identification of optimal solutions.\n",
    "\n",
    "For <span style=\"color:#996600\">**Ant Colony Optimization (ACO)**</span>, the comparative advantages over GAs include:\n",
    "\n",
    "1. **Robustness**: ACO excels in combinatorial optimization problems and demonstrates strong adaptability to dynamic environments. Its pheromone-based communication allows it to adjust to changes effectively, making it suitable for problems where conditions fluctuate.\n",
    "\n",
    "2. **Balance of Exploration and Exploitation**: Through pheromone updates, ACO maintains an equilibrium between exploring new paths and exploiting known advantageous ones. This balance enhances its ability to find optimal solutions in complex search spaces.\n",
    "\n",
    "#### Addressing Computational Demands of ACO\n",
    "\n",
    "While ACO can be computationally demanding due to the need for pheromone calculations, this complexity is often justified by its ability to adapt in dynamic environments. The pheromone updating mechanism allows ACO to quickly recalibrate its search strategies in response to changes, which can be more effective than the static approaches of some GAs. \n",
    "\n",
    "In dynamic scenarios, ACO's strength lies in its ability to continuously refine its solutions based on real-time feedback from the environment. This adaptability can lead to better performance in situations where the optimal solution may change over time, making ACO a valuable tool despite its computational costs.\n",
    "\n"
   ]
  },
  {
   "cell_type": "markdown",
   "id": "47d5944c-1305-4bb3-b93e-dd70164473a1",
   "metadata": {},
   "source": [
    "## <a id='si-weak'>Swarm Intelligence Shortcomings</a>"
   ]
  },
  {
   "cell_type": "markdown",
   "id": "44dd721a-0663-4ac6-947f-fe93a4525e76",
   "metadata": {},
   "source": [
    "Swarm intelligence (SI) exhibits several limitations when compared to genetic algorithms (GAs):\n",
    "\n",
    "1. **Convergence Speed:** While PSO can converge quickly in specific contexts, GAs may achieve faster convergence in certain static optimization problems due to their competitive selection mechanisms. Thus, the effectiveness of each algorithm can vary depending on the specific problem being addressed.\n",
    "\n",
    "2. **Solution Diversity**: GAs preserve genetic diversity through processes such as crossover and mutation, which mitigate the risk of local minima. In contrast, SI is prone to premature convergence, largely because it depends on the collective behavior of agents.\n",
    "\n",
    "3. **Adaptability Limitations:** Although PSO is generally effective in dynamic environments, GAs can exhibit superior adaptability in highly variable conditions. GAs are designed with mechanisms that allow them to maintain genetic diversity, which can be crucial for navigating rapidly changing landscapes.\n",
    "\n",
    "In the context of <span style=\"color:#006699\">**Particle Swarm Optimization (PSO)**</span>, specific weaknesses include:\n",
    "\n",
    "- **Local Optima**: PSO is susceptible to becoming trapped in local optima, particularly in high-dimensional solution spaces.\n",
    "\n",
    "- **Diversity Loss**: Over successive iterations, PSO may experience a decline in diversity, which can impede thorough exploration of the solution landscape.\n",
    "\n",
    "For <span style=\"color:#996600\">**Ant Colony Optimization (ACO)**</span>, notable weaknesses are:\n",
    "\n",
    "- **Computational Complexity**: ACO can be computationally demanding due to the necessity for pheromone updates across numerous iterations.\n",
    "\n",
    "- **Parameter Sensitivity**: The efficacy of ACO is highly sensitive to parameter selection, complicating its implementation relative to GAs.\n"
   ]
  },
  {
   "cell_type": "markdown",
   "id": "55f082fd",
   "metadata": {},
   "source": [
    "In summary, while Particle Swarm Optimization (PSO) and Ant Colony Optimization (ACO) boast distinct advantages in terms of simplicity and robustness, they are not without their own challenges, such as susceptibility to local optima and computational complexity, particularly when juxtaposed with genetic algorithms."
   ]
  },
  {
   "cell_type": "markdown",
   "id": "2099405c",
   "metadata": {},
   "source": [
    "## <a id='dy-var'>Dynamic Environment Vs Variable Environment</a>"
   ]
  },
  {
   "cell_type": "markdown",
   "id": "382902ae",
   "metadata": {},
   "source": [
    "The terms \"dynamic environment\" and \"highly variable conditions\" can be confusing, but they generally refer to different aspects of change in optimization problems.\n",
    "\n",
    "### Dynamic Environment\n",
    "\n",
    "- A **dynamic environment** is characterized by changes over time that can affect the optimization landscape. This means that the global optimum or local optima can shift, requiring algorithms to adapt continuously to find the best solutions. For example, in a dynamic multi-objective optimization problem, the objectives may change, and the optimal solutions must be tracked as they evolve.\n",
    "\n",
    "### Highly Variable Conditions\n",
    "\n",
    "- **Highly variable conditions** refer to situations where the environment may experience fluctuations or changes that are not necessarily systematic or predictable. This could involve sudden shifts in parameters or constraints that affect the optimization problem. In such scenarios, the ability to adapt quickly is crucial, but these changes may not always follow a consistent pattern.\n",
    "\n",
    "### Key Differences\n",
    "\n",
    "- **Nature of Change**: Dynamic environments imply a systematic change in the optimization landscape (e.g., moving peaks), while highly variable conditions can include random or unpredictable fluctuations.\n",
    "\n",
    "- **Adaptation Requirements**: In dynamic environments, algorithms need mechanisms to track and adapt to the evolving optima. In contrast, highly variable conditions might require more robust exploration strategies to handle unexpected changes.\n",
    "\n",
    "In summary, while both terms involve change, \"dynamic environments\" typically refer to systematic shifts in optimal solutions over time, whereas \"highly variable conditions\" encompass a broader range of unpredictable fluctuations. This distinction is important when discussing the adaptability of algorithms like Genetic Algorithms (GAs) and Particle Swarm Optimization (PSO) in different optimization scenarios. \n"
   ]
  },
  {
   "cell_type": "markdown",
   "id": "e8c55b7d-7dcc-4c6c-9e0c-c7a9025806e1",
   "metadata": {},
   "source": [
    "## <a id='si-app'>Swarm Intelligence Applications</a>"
   ]
  },
  {
   "cell_type": "markdown",
   "id": "7ecabe56-8845-44f1-a2e6-35de4de0efa7",
   "metadata": {},
   "source": [
    "<figure><center>\n",
    "    <img src=\"pics/si_intro/si_apps.png\" alt=\"missing\">\n",
    "</center></figure>"
   ]
  },
  {
   "cell_type": "markdown",
   "id": "9b277631-8d4f-449a-b77b-3df61b1ab16a",
   "metadata": {},
   "source": [
    "Swarm intelligence (SI) has diverse applications across various fields:\n",
    "\n",
    "- **Optimization Problems**: Used for function minimization, data clustering, and routing tasks, such as the Traveling Salesman Problem.\n",
    "\n",
    "- **Robotics**: Employed in search and rescue missions, surveillance, and exploration through coordinated drone operations.\n",
    "\n",
    "- **Traffic Management**: Helps optimize traffic flow and reduce congestion using decentralized algorithms.\n",
    "\n",
    "- **Healthcare**: Enhances diagnostic accuracy by connecting groups of doctors for collaborative decision-making.\n",
    "\n",
    "- **Marketing**: Generates targeted advertising based on user behavior analysis.\n",
    "\n",
    "- **Telecommunications**: Improves call routing and network efficiency using digital ant algorithms.\n",
    "\n",
    "- **Search and Rescue Operations**: Swarm intelligence is effectively utilized in search and rescue operations through the deployment of autonomous drones. These drones work cooperatively to gather situational awareness data and locate survivors after disasters. Key aspects include:\n",
    "\n",
    "<span style=\"color:#009988\">Cooperative Behavior:</span> Drones use behavior-based algorithms to optimize search patterns, ensuring efficient coverage of large areas.\n",
    "\n",
    "<span style=\"color:#7799ee\">Real-time Data Collection:</span> Equipped with sensors, they can quickly assess environments and identify victims, achieving high coverage rates in short timeframes.\n",
    "\n",
    "<span style=\"color:#dd8822\">Resilience:</span> The system can continue functioning even if individual drones fail, allowing for sustained search efforts with minimal operator intervention. \n",
    "\n",
    "This approach significantly enhances the speed and effectiveness of rescue missions.\n",
    "\n",
    "- **Dynamic Control Systems**: Swarm intelligence can be used to manage and optimize dynamic control systems, such as those found in automated manufacturing processes or smart grids.\n",
    "\n",
    "- **Planetary Mapping**: NASA is exploring the use of swarm technology for planetary mapping, where multiple autonomous robots work together to map the surface of planets.\n",
    "\n",
    "- **Image Segmentation**: In the field of computer vision, swarm intelligence algorithms can be applied to image segmentation tasks, helping to identify and categorize different regions within an image.\n",
    "\n",
    "\n",
    "\n"
   ]
  },
  {
   "cell_type": "markdown",
   "id": "064f87f1-dd53-4761-8dfa-02d6b835556e",
   "metadata": {},
   "source": [
    "## <a id='si-future'>The Future of Swarm Intelligence</a>"
   ]
  },
  {
   "cell_type": "markdown",
   "id": "a892f7e9-e662-42a6-be9b-998bb69accf7",
   "metadata": {},
   "source": [
    "<figure><center>\n",
    "    <img src=\"pics/si_intro/si_future.png\" alt=\"missing\">\n",
    "</center></figure>"
   ]
  },
  {
   "cell_type": "markdown",
   "id": "db3499f5-0fba-4c08-a565-e1347e778766",
   "metadata": {},
   "source": [
    "The future of swarm intelligence (SI) appears promising, with several key developments anticipated:\n",
    "\n",
    "- **Algorithm Design**: Continued advancements in algorithms will enhance cooperation among agents, making SI more scalable and adaptive for complex problem-solving.\n",
    "\n",
    "- **Diverse Applications**: Expanding beyond robotics, SI is expected to find new applications in fields like healthcare, agriculture, and telecommunications, driven by ongoing research.\n",
    "\n",
    "- **Real-World Implementation**: Efforts are underway to transition from theoretical models to practical applications, particularly in areas like search and rescue, space exploration, and infrastructure maintenance.\n",
    "\n",
    "- **Market Growth**: The global SI market is projected to grow significantly, indicating increasing interest and investment in this technology. \n",
    "\n",
    "Overall, while challenges remain, the trajectory of swarm intelligence research suggests a bright future.\n"
   ]
  },
  {
   "cell_type": "markdown",
   "id": "9a96081c-3089-48d9-91c9-e822d035d014",
   "metadata": {},
   "source": [
    "In the upcoming two articles, we will delve into the fascinating realms of two pivotal paradigms of computational swarm intelligence: Particle Swarm Optimization (PSO) and Ant Colony Optimization (ACO). These methodologies not only showcase the brilliance of nature-inspired algorithms but also hold immense potential for solving complex problems across various domains. I genuinely appreciate your support, and I hope you found this article as engaging and enjoyable as I did while crafting it. Stay tuned for more exciting insights, and I look forward to our next exploration together!\n"
   ]
  },
  {
   "cell_type": "markdown",
   "id": "7ab62485",
   "metadata": {},
   "source": [
    "The author utilized Microsoft Copilot for image generation and received refinement assistance from both Microsoft Copilot and Perplexity AI."
   ]
  },
  {
   "cell_type": "markdown",
   "id": "8c49640b-5167-435b-8359-d71451ead563",
   "metadata": {},
   "source": [
    "## <a id='si-ref'>References</a>"
   ]
  },
  {
   "cell_type": "markdown",
   "id": "93633d30-97c3-462a-ab3b-5700dcdb43dd",
   "metadata": {},
   "source": [
    "1. Engelbrecht, A. P. (2007). Computational intelligence: An introduction (2nd ed.). John Wiley & Sons.\n",
    "\n",
    "2. Kruse, R., Borgelt, C., Braune, C., Mostaghim, S., & Steinbrecher, M. (2016). Computational Intelligence - A Methodological Introduction (2nd ed.). Springer. https://doi.org/10.1007/978-3-030-42227-1\n",
    "\n",
    "3. pymoo. (n.d.). Rosenbrock. Retrieved from https://pymoo.org/problems/single/rosenbrock.html\n",
    "\n",
    "4. Reddit. (2023). Non-convex functions with exactly one local minimum. Retrieved from https://www.reddit.com/r/MachineLearning/comments/17181z7/d_nonconvex_functions_with_exactly_one_local/\n",
    "\n",
    "5. Wolfram Function Repository. (n.d.). RosenbrockFunction. Retrieved from https://resources.wolframcloud.com/FunctionRepository/resources/RosenbrockFunction/\n",
    "\n",
    "6. GitHub. (n.d.). Gradient-Descent-for-Rosenbrock-Function. Retrieved from https://github.com/syahrulhamdani/Gradient-Descent-for-Rosenbrock-Function\n",
    "\n",
    "7. MathWorks. (n.d.). Rosenbrock Function - File Exchange - MATLAB Central. Retrieved from https://www.mathworks.com/matlabcentral/fileexchange/36883-rosenbrock-function?s_tid=FX_rc1_behav\n",
    "\n",
    "8. Fixstars. (n.d.). Rosenbrock Function - Amplify-BBOpt documentation. Retrieved from https://amplify.fixstars.com/en/docs/amplify-bbopt/v0/example_test_function_rosenbrock.html\n",
    "\n",
    "9. Chen, L. (n.d.). Introduction. Retrieved from https://www.math.uci.edu/~chenlong/110/110A-Introduction.pdf\n",
    "\n",
    "10. Wikipedia. (n.d.). Rosenbrock function. Retrieved from https://en.wikipedia.org/wiki/Rosenbrock_function\n",
    "\n",
    "11. Swarm Intelligence vs Genetic Algorithm. (n.d.). A Survey. Retrieved from https://www.ijsr.net/archive/v3i5/MDIwMTMxNzE5.pdf\n",
    "\n",
    "12. Particle Swarm Optimization Algorithm vs Genetic Algorithm to Develop Integrated Scheme for Obtaining Optimal Mechanical Structure and Adaptive Controller of a Robot. (n.d.). Retrieved from https://www.scirp.org/journal/paperinformation?paperid=8220\n",
    "\n",
    "13. An Adaptive Particle Swarm Optimization Algorithm Based on ... (n.d.). Retrieved from https://onlinelibrary.wiley.com/doi/10.1155/2014/434972\n",
    "\n",
    "14. GeeksforGeeks. (n.d.). Particle Swarm Optimization (PSO) - An Overview. Retrieved from https://www.geeksforgeeks.org/particle-swarm-optimization-pso-an-overview/\n",
    "\n",
    "15. SpringerLink. (n.d.). Particle Swarm Optimization Algorithm and Its Applications. Retrieved from https://link.springer.com/article/10.1007/s11831-021-09694-4\n",
    "\n",
    "16. Stanford University. (n.d.). Genetic Algorithms and Swarm Intelligence. Retrieved from http://web.stanford.edu/class/sts129/essays/Khalil2.htm\n",
    "\n",
    "17. A Comparative Study on Particle Swarm Optimization and Genetic Algorithms for Fixed Order Controller Design. (n.d.). Retrieved from https://link.springer.com/chapter/10.1007/978-3-642-28962-0_28\n",
    "\n",
    "18. Review and Comparison of Genetic Algorithm and Particle Swarm ... (n.d.). Retrieved from https://www.mdpi.com/1996-1073/16/3/1152\n",
    "\n",
    "19. Sisinna, G. (n.d.). How does Swarm Intelligence work and what are its potential applications? Retrieved from https://www.linkedin.com/pulse/how-does-swarm-intelligence-work-what-its-potential-giovanni-sisinna\n",
    "\n",
    "20. RicksCloudAI. (n.d.). Swarm Intelligence and real-life applications. Retrieved from https://rickscloud.ai/swarm-intelligence-and-real-life-applications/\n",
    "\n",
    "21. FedTech Magazine. (n.d.). Swarm Intelligence: What Is It & How Are Agencies Using it? Retrieved from https://fedtechmagazine.com/article/2022/02/swarm-intelligence-what-it-and-how-are-agencies-using-it-perfcon\n",
    "\n",
    "22. Moonpreneur. (n.d.). The Future of Swarm Robotics: Revolutionizing Automation and AI. Retrieved from https://mp.moonpreneur.com/blog/future-of-swarm-robotics/\n",
    "\n",
    "23. Nature. (n.d.). Retrieved from https://www.nature.com/articles/s41598-023-41855-2\n",
    "\n",
    "24. SpringerLink. (n.d.). An Overview of Swarm Intelligence-Based Algorithms. Retrieved from https://link.springer.com/chapter/10.1007/978-3-031-17929-7_1\n",
    "\n",
    "25. SpringerLink. (n.d.). Swarm Intelligence Algorithms and Their Engineering Applications. Retrieved from https://link.springer.com/chapter/10.1007/978-981-97-5979-8_3\n",
    "\n",
    "26. SpringerLink. (n.d.). Swarm Intelligence: A Review of Algorithms. Retrieved from https://link.springer.com/chapter/10.1007/978-3-319-50920-4_19\n",
    "\n",
    "27. Frontiers in Robotics and AI. (2023). Recent trends in robot learning and evolution for swarm robotics. Retrieved from https://www.frontiersin.org/journals/robotics-and-ai/articles/10.3389/frobt.2023.1134841/full\n",
    "\n",
    "28. HAL. (n.d.). Swarm Robotics: Past, Present, and Future [Point of View]. Retrieved from https://hal.science/hal-03362874/document\n",
    "\n",
    "29. HAL. (n.d.). Reflections on the future of swarm robotics. Retrieved from https://hal.science/hal-03362864/document\n",
    "\n",
    "30. Baeldung on Computer Science. (n.d.). What Is Swarm Intelligence? Retrieved from https://www.baeldung.com/cs/swarm-intelligence"
   ]
  }
 ],
 "metadata": {
  "kernelspec": {
   "display_name": "Python 3",
   "language": "python",
   "name": "python3"
  },
  "language_info": {
   "codemirror_mode": {
    "name": "ipython",
    "version": 3
   },
   "file_extension": ".py",
   "mimetype": "text/x-python",
   "name": "python",
   "nbconvert_exporter": "python",
   "pygments_lexer": "ipython3",
   "version": "3.10.0"
  }
 },
 "nbformat": 4,
 "nbformat_minor": 5
}
