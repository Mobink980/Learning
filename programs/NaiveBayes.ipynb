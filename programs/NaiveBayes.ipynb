{
 "cells": [
  {
   "cell_type": "markdown",
   "metadata": {},
   "source": [
    "# Naive Bayes Algorithm\n",
    " The dataset is part of an assignment on Naive Bayes Classification and Support Vector Machines. The dataset contains information about individuals such as their age, work class, education, marital status, occupation, relationship, race, sex, capital gain, capital loss, hours per week, native, and salary."
   ]
  },
  {
   "cell_type": "markdown",
   "metadata": {},
   "source": [
    "**Bringing in all the libraries**"
   ]
  },
  {
   "cell_type": "code",
   "execution_count": 1,
   "metadata": {},
   "outputs": [],
   "source": [
    "import pandas as pd\n",
    "import numpy as np\n",
    "from sklearn.naive_bayes import GaussianNB"
   ]
  },
  {
   "cell_type": "markdown",
   "metadata": {},
   "source": [
    "**Importing training and testing data**"
   ]
  },
  {
   "cell_type": "code",
   "execution_count": 2,
   "metadata": {},
   "outputs": [
    {
     "data": {
      "text/html": [
       "<div>\n",
       "<style scoped>\n",
       "    .dataframe tbody tr th:only-of-type {\n",
       "        vertical-align: middle;\n",
       "    }\n",
       "\n",
       "    .dataframe tbody tr th {\n",
       "        vertical-align: top;\n",
       "    }\n",
       "\n",
       "    .dataframe thead th {\n",
       "        text-align: right;\n",
       "    }\n",
       "</style>\n",
       "<table border=\"1\" class=\"dataframe\">\n",
       "  <thead>\n",
       "    <tr style=\"text-align: right;\">\n",
       "      <th></th>\n",
       "      <th>age</th>\n",
       "      <th>workclass</th>\n",
       "      <th>education</th>\n",
       "      <th>educationno</th>\n",
       "      <th>maritalstatus</th>\n",
       "      <th>occupation</th>\n",
       "      <th>relationship</th>\n",
       "      <th>race</th>\n",
       "      <th>sex</th>\n",
       "      <th>capitalgain</th>\n",
       "      <th>capitalloss</th>\n",
       "      <th>hoursperweek</th>\n",
       "      <th>native</th>\n",
       "      <th>salary</th>\n",
       "    </tr>\n",
       "  </thead>\n",
       "  <tbody>\n",
       "    <tr>\n",
       "      <th>0</th>\n",
       "      <td>52</td>\n",
       "      <td>Federal-gov</td>\n",
       "      <td>Bachelors</td>\n",
       "      <td>3</td>\n",
       "      <td>Married-civ-spouse</td>\n",
       "      <td>Transport-moving</td>\n",
       "      <td>Other-relative</td>\n",
       "      <td>White</td>\n",
       "      <td>Male</td>\n",
       "      <td>6481</td>\n",
       "      <td>190</td>\n",
       "      <td>87</td>\n",
       "      <td>France</td>\n",
       "      <td>&gt;50K</td>\n",
       "    </tr>\n",
       "    <tr>\n",
       "      <th>1</th>\n",
       "      <td>45</td>\n",
       "      <td>Federal-gov</td>\n",
       "      <td>11th</td>\n",
       "      <td>12</td>\n",
       "      <td>Separated</td>\n",
       "      <td>Exec-managerial</td>\n",
       "      <td>Not-in-family</td>\n",
       "      <td>White</td>\n",
       "      <td>Female</td>\n",
       "      <td>1815</td>\n",
       "      <td>1581</td>\n",
       "      <td>52</td>\n",
       "      <td>Cambodia</td>\n",
       "      <td>&lt;=50K</td>\n",
       "    </tr>\n",
       "    <tr>\n",
       "      <th>2</th>\n",
       "      <td>38</td>\n",
       "      <td>Local-gov</td>\n",
       "      <td>10th</td>\n",
       "      <td>14</td>\n",
       "      <td>Married-AF-spouse</td>\n",
       "      <td>Prof-specialty</td>\n",
       "      <td>Unmarried</td>\n",
       "      <td>White</td>\n",
       "      <td>Female</td>\n",
       "      <td>2503</td>\n",
       "      <td>3037</td>\n",
       "      <td>23</td>\n",
       "      <td>Cuba</td>\n",
       "      <td>&lt;=50K</td>\n",
       "    </tr>\n",
       "    <tr>\n",
       "      <th>3</th>\n",
       "      <td>42</td>\n",
       "      <td>Never-worked</td>\n",
       "      <td>12th</td>\n",
       "      <td>8</td>\n",
       "      <td>Separated</td>\n",
       "      <td>Prof-specialty</td>\n",
       "      <td>Unmarried</td>\n",
       "      <td>Other</td>\n",
       "      <td>Male</td>\n",
       "      <td>2243</td>\n",
       "      <td>2216</td>\n",
       "      <td>79</td>\n",
       "      <td>Hong</td>\n",
       "      <td>&lt;=50K</td>\n",
       "    </tr>\n",
       "    <tr>\n",
       "      <th>4</th>\n",
       "      <td>71</td>\n",
       "      <td>Self-emp-not-inc</td>\n",
       "      <td>HS-grad</td>\n",
       "      <td>8</td>\n",
       "      <td>Separated</td>\n",
       "      <td>Machine-op-inspct</td>\n",
       "      <td>Unmarried</td>\n",
       "      <td>Asian-Pac-Islander</td>\n",
       "      <td>Female</td>\n",
       "      <td>3462</td>\n",
       "      <td>3856</td>\n",
       "      <td>4</td>\n",
       "      <td>Taiwan</td>\n",
       "      <td>&lt;=50K</td>\n",
       "    </tr>\n",
       "  </tbody>\n",
       "</table>\n",
       "</div>"
      ],
      "text/plain": [
       "   age         workclass  education  educationno       maritalstatus  \\\n",
       "0   52       Federal-gov  Bachelors            3  Married-civ-spouse   \n",
       "1   45       Federal-gov       11th           12           Separated   \n",
       "2   38         Local-gov       10th           14   Married-AF-spouse   \n",
       "3   42      Never-worked       12th            8           Separated   \n",
       "4   71  Self-emp-not-inc    HS-grad            8           Separated   \n",
       "\n",
       "          occupation    relationship                race     sex  capitalgain  \\\n",
       "0   Transport-moving  Other-relative               White    Male         6481   \n",
       "1    Exec-managerial   Not-in-family               White  Female         1815   \n",
       "2     Prof-specialty       Unmarried               White  Female         2503   \n",
       "3     Prof-specialty       Unmarried               Other    Male         2243   \n",
       "4  Machine-op-inspct       Unmarried  Asian-Pac-Islander  Female         3462   \n",
       "\n",
       "   capitalloss  hoursperweek    native salary  \n",
       "0          190            87    France   >50K  \n",
       "1         1581            52  Cambodia  <=50K  \n",
       "2         3037            23      Cuba  <=50K  \n",
       "3         2216            79      Hong  <=50K  \n",
       "4         3856             4    Taiwan  <=50K  "
      ]
     },
     "execution_count": 2,
     "metadata": {},
     "output_type": "execute_result"
    }
   ],
   "source": [
    "salary_train = pd.read_csv('SalaryData_train.csv')\n",
    "salary_test = pd.read_csv('SalaryData_test.csv')\n",
    "string_columns = [\"workclass\", \"education\", \"maritalstatus\", \"occupation\", \"relationship\", \"race\", \"sex\", \"native\"]\n",
    "salary_train.head()"
   ]
  },
  {
   "cell_type": "markdown",
   "metadata": {},
   "source": [
    "**Using a Label Encoder - Categorical to numerical**"
   ]
  },
  {
   "cell_type": "code",
   "execution_count": 3,
   "metadata": {},
   "outputs": [],
   "source": [
    "from sklearn import preprocessing\n",
    "number = preprocessing.LabelEncoder()\n",
    "for i in string_columns:\n",
    "    salary_train[i] = number.fit_transform(salary_train[i])\n",
    "    salary_test[i] = number.fit_transform(salary_test[i])"
   ]
  },
  {
   "cell_type": "markdown",
   "metadata": {},
   "source": [
    "**Assign the encoded variables for training and testing**"
   ]
  },
  {
   "cell_type": "code",
   "execution_count": 4,
   "metadata": {},
   "outputs": [],
   "source": [
    "colnames = salary_train.columns\n",
    "# print(len(colnames[0:13])) #12 first columns\n",
    "trainX = salary_train[colnames[0:13]]\n",
    "trainY = salary_train[colnames[13]]\n",
    "testX = salary_test[colnames[0:13]]\n",
    "testY = salary_test[colnames[13]]\n"
   ]
  },
  {
   "cell_type": "markdown",
   "metadata": {},
   "source": [
    "**Gaussian Naive Bayes classifier for model fitting**"
   ]
  },
  {
   "cell_type": "code",
   "execution_count": 5,
   "metadata": {},
   "outputs": [],
   "source": [
    "# Gaussian Naive Bayes is usually used for continuous data (like salary in here)\n",
    "# For binary data (yes or no, 0 or 1, etc.) you're gonna use Bernoli Naive Bayes classifier\n",
    "sgnb = GaussianNB()"
   ]
  },
  {
   "cell_type": "markdown",
   "metadata": {},
   "source": [
    "**Predictions for test data**"
   ]
  },
  {
   "cell_type": "code",
   "execution_count": 6,
   "metadata": {},
   "outputs": [],
   "source": [
    "spred_gnb = sgnb.fit(trainX, trainY).predict(testX)"
   ]
  },
  {
   "cell_type": "markdown",
   "metadata": {},
   "source": [
    "**Confusion Matrix**"
   ]
  },
  {
   "cell_type": "code",
   "execution_count": 7,
   "metadata": {},
   "outputs": [
    {
     "name": "stdout",
     "output_type": "stream",
     "text": [
      "[[101  49]\n",
      " [ 89  61]]\n",
      "Accuracy 0.54\n"
     ]
    }
   ],
   "source": [
    "from sklearn.metrics import confusion_matrix\n",
    "# confusion matrix ==> ([TN, FP], [FN, TP])\n",
    "cm_gnb = confusion_matrix(testY, spred_gnb) # y_true: testY,  y_pred: spred_gnb\n",
    "print(cm_gnb)\n",
    "tn, fp, fn, tp = cm_gnb.ravel()\n",
    "accuracy = (tp + tn) / (tp + tn + fp + fn)\n",
    "# Of course accuracy would be low, because our dataset is randomly generated\n",
    "print(\"Accuracy\", accuracy) # accuracy = (TP + TN) / (TP + TN + FP + FN)"
   ]
  }
 ],
 "metadata": {
  "kernelspec": {
   "display_name": "Python 3",
   "language": "python",
   "name": "python3"
  },
  "language_info": {
   "codemirror_mode": {
    "name": "ipython",
    "version": 3
   },
   "file_extension": ".py",
   "mimetype": "text/x-python",
   "name": "python",
   "nbconvert_exporter": "python",
   "pygments_lexer": "ipython3",
   "version": "3.10.0"
  }
 },
 "nbformat": 4,
 "nbformat_minor": 2
}
